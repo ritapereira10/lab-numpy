{
 "cells": [
  {
   "cell_type": "markdown",
   "metadata": {},
   "source": [
    "# Intrduction to NumPy\n",
    "\n",
    "\n",
    "#### 1. Import NumPy under the name np."
   ]
  },
  {
   "cell_type": "code",
   "execution_count": 1,
   "metadata": {},
   "outputs": [],
   "source": [
    "# your code here\n",
    "import numpy as np"
   ]
  },
  {
   "cell_type": "markdown",
   "metadata": {},
   "source": [
    "#### 2. Print your NumPy version."
   ]
  },
  {
   "cell_type": "code",
   "execution_count": 2,
   "metadata": {},
   "outputs": [
    {
     "name": "stdout",
     "output_type": "stream",
     "text": [
      "1.17.2\n"
     ]
    }
   ],
   "source": [
    "# your code here\n",
    "print(np.version.version)"
   ]
  },
  {
   "cell_type": "markdown",
   "metadata": {},
   "source": [
    "#### 3. Generate a 2x3x5 3-dimensional array with random values. Assign the array to variable *a*.\n",
    "**Challenge**: there are at least three easy ways that use numpy to generate random arrays. How many ways can you find?"
   ]
  },
  {
   "cell_type": "code",
   "execution_count": 5,
   "metadata": {},
   "outputs": [
    {
     "name": "stdout",
     "output_type": "stream",
     "text": [
      "[[[0.3773928  0.36667257 0.00338957 0.00562677 0.95095218]\n",
      "  [0.74109938 0.88272879 0.82361983 0.69203657 0.86341494]\n",
      "  [0.24674389 0.73665518 0.13006202 0.12654556 0.28498218]]\n",
      "\n",
      " [[0.53875855 0.6833094  0.2122717  0.7579098  0.02483124]\n",
      "  [0.93946855 0.44792506 0.33043066 0.24195525 0.36418057]\n",
      "  [0.55453374 0.41713087 0.66536653 0.87867372 0.95253563]]]\n"
     ]
    }
   ],
   "source": [
    "# Method 1\n",
    "a = np.random.random((2,3,5))\n"
   ]
  },
  {
   "cell_type": "code",
   "execution_count": 8,
   "metadata": {},
   "outputs": [
    {
     "name": "stdout",
     "output_type": "stream",
     "text": [
      "[[[0 0 0 0 0]\n",
      "  [1 1 1 1 1]\n",
      "  [2 2 2 2 2]]\n",
      "\n",
      " [[0 1 2 3 4]\n",
      "  [0 1 2 3 4]\n",
      "  [0 1 2 3 4]]]\n"
     ]
    }
   ],
   "source": [
    "# Method 2\n",
    "a = np.indices((3,5))\n"
   ]
  },
  {
   "cell_type": "code",
   "execution_count": 9,
   "metadata": {},
   "outputs": [
    {
     "name": "stdout",
     "output_type": "stream",
     "text": [
      "[[[0.49707    0.75550404 0.97476209 0.13045857 0.64718978]\n",
      "  [0.01243768 0.79550068 0.12766628 0.34159354 0.87947844]\n",
      "  [0.89192835 0.77433309 0.23483557 0.7987288  0.0729021 ]]\n",
      "\n",
      " [[0.11195434 0.06982734 0.65560538 0.25453456 0.48509308]\n",
      "  [0.53098284 0.11909911 0.16830546 0.25143795 0.95983286]\n",
      "  [0.4781756  0.13507294 0.1360578  0.78506219 0.01140253]]]\n"
     ]
    }
   ],
   "source": [
    "# Method 3\n",
    "a = np.random.rand(2,3,5)"
   ]
  },
  {
   "cell_type": "markdown",
   "metadata": {},
   "source": [
    "#### 4. Print *a*.\n"
   ]
  },
  {
   "cell_type": "code",
   "execution_count": 10,
   "metadata": {},
   "outputs": [
    {
     "name": "stdout",
     "output_type": "stream",
     "text": [
      "[[[0.49707    0.75550404 0.97476209 0.13045857 0.64718978]\n",
      "  [0.01243768 0.79550068 0.12766628 0.34159354 0.87947844]\n",
      "  [0.89192835 0.77433309 0.23483557 0.7987288  0.0729021 ]]\n",
      "\n",
      " [[0.11195434 0.06982734 0.65560538 0.25453456 0.48509308]\n",
      "  [0.53098284 0.11909911 0.16830546 0.25143795 0.95983286]\n",
      "  [0.4781756  0.13507294 0.1360578  0.78506219 0.01140253]]]\n"
     ]
    }
   ],
   "source": [
    "print(a)"
   ]
  },
  {
   "cell_type": "markdown",
   "metadata": {},
   "source": [
    "#### 5. Create a 5x2x3 3-dimensional array with all values equaling 1. Assign the array to variable *b*."
   ]
  },
  {
   "cell_type": "code",
   "execution_count": 24,
   "metadata": {},
   "outputs": [],
   "source": [
    "# your code here\n",
    "\n",
    "b= np.ones((5,2,3),dtype = int)\n"
   ]
  },
  {
   "cell_type": "markdown",
   "metadata": {},
   "source": [
    "#### 6. Print *b*.\n"
   ]
  },
  {
   "cell_type": "code",
   "execution_count": 25,
   "metadata": {},
   "outputs": [
    {
     "name": "stdout",
     "output_type": "stream",
     "text": [
      "[[[1 1 1]\n",
      "  [1 1 1]]\n",
      "\n",
      " [[1 1 1]\n",
      "  [1 1 1]]\n",
      "\n",
      " [[1 1 1]\n",
      "  [1 1 1]]\n",
      "\n",
      " [[1 1 1]\n",
      "  [1 1 1]]\n",
      "\n",
      " [[1 1 1]\n",
      "  [1 1 1]]]\n"
     ]
    }
   ],
   "source": [
    "# your code here\n",
    "print(b)"
   ]
  },
  {
   "cell_type": "markdown",
   "metadata": {},
   "source": [
    "#### 7. Do *a* and *b* have the same size? How do you prove that in Python code?"
   ]
  },
  {
   "cell_type": "code",
   "execution_count": 15,
   "metadata": {},
   "outputs": [
    {
     "data": {
      "text/plain": [
       "True"
      ]
     },
     "execution_count": 15,
     "metadata": {},
     "output_type": "execute_result"
    }
   ],
   "source": [
    "# your code here\n",
    "\n",
    "a.size == b.size"
   ]
  },
  {
   "cell_type": "markdown",
   "metadata": {},
   "source": [
    "#### 8. Are you able to add *a* and *b*? Why or why not?\n"
   ]
  },
  {
   "cell_type": "raw",
   "metadata": {},
   "source": [
    "# your answer here\n",
    "\n",
    "Even though the arrays have the same size they don't have the same shape and therefore it's not possible to sum them together"
   ]
  },
  {
   "cell_type": "markdown",
   "metadata": {},
   "source": [
    "#### 9. Transpose *b* so that it has the same structure of *a* (i.e. become a 2x3x5 array). Assign the transposed array to variable *c*."
   ]
  },
  {
   "cell_type": "code",
   "execution_count": 28,
   "metadata": {},
   "outputs": [
    {
     "name": "stdout",
     "output_type": "stream",
     "text": [
      "[[[1 1 1 1 1]\n",
      "  [1 1 1 1 1]\n",
      "  [1 1 1 1 1]]\n",
      "\n",
      " [[1 1 1 1 1]\n",
      "  [1 1 1 1 1]\n",
      "  [1 1 1 1 1]]]\n",
      "(2, 3, 5)\n"
     ]
    }
   ],
   "source": [
    "# your code here\n",
    "\n",
    "c = np.transpose(b, (1,2,0))\n",
    "print(c)\n",
    "print(np.shape(c))"
   ]
  },
  {
   "cell_type": "markdown",
   "metadata": {},
   "source": [
    "#### 10. Try to add *a* and *c*. Now it should work. Assign the sum to variable *d*. But why does it work now?"
   ]
  },
  {
   "cell_type": "code",
   "execution_count": 29,
   "metadata": {},
   "outputs": [],
   "source": [
    "# your code/answer here\n",
    "\n",
    "d = a + c"
   ]
  },
  {
   "cell_type": "markdown",
   "metadata": {},
   "source": [
    "#### 11. Print *a* and *d*. Notice the difference and relation of the two array in terms of the values? Explain."
   ]
  },
  {
   "cell_type": "code",
   "execution_count": 31,
   "metadata": {},
   "outputs": [
    {
     "name": "stdout",
     "output_type": "stream",
     "text": [
      "[[[0.49707    0.75550404 0.97476209 0.13045857 0.64718978]\n",
      "  [0.01243768 0.79550068 0.12766628 0.34159354 0.87947844]\n",
      "  [0.89192835 0.77433309 0.23483557 0.7987288  0.0729021 ]]\n",
      "\n",
      " [[0.11195434 0.06982734 0.65560538 0.25453456 0.48509308]\n",
      "  [0.53098284 0.11909911 0.16830546 0.25143795 0.95983286]\n",
      "  [0.4781756  0.13507294 0.1360578  0.78506219 0.01140253]]]\n"
     ]
    }
   ],
   "source": [
    "# your code/answer here\n",
    "\n",
    "print(a)"
   ]
  },
  {
   "cell_type": "code",
   "execution_count": 32,
   "metadata": {},
   "outputs": [
    {
     "name": "stdout",
     "output_type": "stream",
     "text": [
      "[[[1.49707    1.75550404 1.97476209 1.13045857 1.64718978]\n",
      "  [1.01243768 1.79550068 1.12766628 1.34159354 1.87947844]\n",
      "  [1.89192835 1.77433309 1.23483557 1.7987288  1.0729021 ]]\n",
      "\n",
      " [[1.11195434 1.06982734 1.65560538 1.25453456 1.48509308]\n",
      "  [1.53098284 1.11909911 1.16830546 1.25143795 1.95983286]\n",
      "  [1.4781756  1.13507294 1.1360578  1.78506219 1.01140253]]]\n"
     ]
    }
   ],
   "source": [
    "print(d)"
   ]
  },
  {
   "cell_type": "raw",
   "metadata": {},
   "source": [
    "All the values in d are the sum of the items in a and c, d[i] = a[i] + 1"
   ]
  },
  {
   "cell_type": "markdown",
   "metadata": {},
   "source": [
    "#### 12. Multiply *a* and *c*. Assign the result to *e*."
   ]
  },
  {
   "cell_type": "code",
   "execution_count": 35,
   "metadata": {},
   "outputs": [
    {
     "name": "stdout",
     "output_type": "stream",
     "text": [
      "[[[0.49707    0.75550404 0.97476209 0.13045857 0.64718978]\n",
      "  [0.01243768 0.79550068 0.12766628 0.34159354 0.87947844]\n",
      "  [0.89192835 0.77433309 0.23483557 0.7987288  0.0729021 ]]\n",
      "\n",
      " [[0.11195434 0.06982734 0.65560538 0.25453456 0.48509308]\n",
      "  [0.53098284 0.11909911 0.16830546 0.25143795 0.95983286]\n",
      "  [0.4781756  0.13507294 0.1360578  0.78506219 0.01140253]]]\n"
     ]
    }
   ],
   "source": [
    "# your code here\n",
    "\n",
    "e = a *c\n",
    "print(e)"
   ]
  },
  {
   "cell_type": "markdown",
   "metadata": {},
   "source": [
    "#### 13. Does *e* equal to *a*? Why or why not?\n"
   ]
  },
  {
   "cell_type": "code",
   "execution_count": null,
   "metadata": {},
   "outputs": [],
   "source": [
    "#something multiplied by 1 equals that something"
   ]
  },
  {
   "cell_type": "markdown",
   "metadata": {},
   "source": [
    "#### 14. Identify the max, min, and mean values in *d*. Assign those values to variables *d_max*, *d_min* and *d_mean*."
   ]
  },
  {
   "cell_type": "code",
   "execution_count": 38,
   "metadata": {},
   "outputs": [],
   "source": [
    "# your code here\n",
    "d_max = d.max()\n",
    "d_min = d.min()\n",
    "d_mean = d.mean()"
   ]
  },
  {
   "cell_type": "markdown",
   "metadata": {},
   "source": [
    "#### 15. Now we want to label the values in *d*. First create an empty array *f* with the same shape (i.e. 2x3x5) as *d* using `np.empty`.\n"
   ]
  },
  {
   "cell_type": "code",
   "execution_count": 39,
   "metadata": {},
   "outputs": [],
   "source": [
    "# your code here\n",
    "f = np.empty((2,3,5))"
   ]
  },
  {
   "cell_type": "markdown",
   "metadata": {},
   "source": [
    "#### 16. Populate the values in *f*. \n",
    "\n",
    "For each value in *d*, if it's larger than *d_min* but smaller than *d_mean*, assign 25 to the corresponding value in *f*. If a value in *d* is larger than *d_mean* but smaller than *d_max*, assign 75 to the corresponding value in *f*. If a value equals to *d_mean*, assign 50 to the corresponding value in *f*. Assign 0 to the corresponding value(s) in *f* for *d_min* in *d*. Assign 100 to the corresponding value(s) in *f* for *d_max* in *d*. In the end, f should have only the following values: 0, 25, 50, 75, and 100.\n",
    "\n",
    "**Note**: you don't have to use Numpy in this question."
   ]
  },
  {
   "cell_type": "code",
   "execution_count": 41,
   "metadata": {},
   "outputs": [],
   "source": [
    "# For each value in d, if it's larger than d_min but smaller than d_mean, assign 25 to the corresponding value in f.\n",
    "f[(d_min < d) & (d < d_mean)] = 25\n",
    "\n",
    "#If a value in d is larger than d_mean but smaller than d_max, assign 75 \n",
    "f[(d_mean < d) & (d < d_max)] = 75\n",
    "\n",
    "#If a value equals to d_mean, assign 50\n",
    "f[d_mean == d] = 50\n",
    "   \n",
    "#Assign 0 to the corresponding value(s) in f for d_min in d.\n",
    "f[d_min == d] = 0\n",
    "   \n",
    "#Assign 100 to the corresponding value(s) in f for d_max in d\n",
    "f[d_max == d] = 100"
   ]
  },
  {
   "cell_type": "markdown",
   "metadata": {},
   "source": [
    "#### 17. Print *d* and *f*. Do you have your expected *f*?\n",
    "For instance, if your *d* is:\n",
    "```python\n",
    "[[[1.85836099, 1.67064465, 1.62576044, 1.40243961, 1.88454931],\n",
    "[1.75354326, 1.69403643, 1.36729252, 1.61415071, 1.12104981],\n",
    "[1.72201435, 1.1862918 , 1.87078449, 1.7726778 , 1.88180042]],\n",
    "[[1.44747908, 1.31673383, 1.02000951, 1.52218947, 1.97066381],\n",
    "[1.79129243, 1.74983003, 1.96028037, 1.85166831, 1.65450881],\n",
    "[1.18068344, 1.9587381 , 1.00656599, 1.93402165, 1.73514584]]]\n",
    "```\n",
    "Your *f* should be:\n",
    "```python\n",
    "[[[ 75.,  75.,  75.,  25.,  75.],\n",
    "[ 75.,  75.,  25.,  25.,  25.],\n",
    "[ 75.,  25.,  75.,  75.,  75.]],\n",
    "[[ 25.,  25.,  25.,  25., 100.],\n",
    "[ 75.,  75.,  75.,  75.,  75.],\n",
    "[ 25.,  75.,   0.,  75.,  75.]]]\n",
    "```"
   ]
  },
  {
   "cell_type": "code",
   "execution_count": 43,
   "metadata": {},
   "outputs": [
    {
     "name": "stdout",
     "output_type": "stream",
     "text": [
      "[[[1.49707    1.75550404 1.97476209 1.13045857 1.64718978]\n",
      "  [1.01243768 1.79550068 1.12766628 1.34159354 1.87947844]\n",
      "  [1.89192835 1.77433309 1.23483557 1.7987288  1.0729021 ]]\n",
      "\n",
      " [[1.11195434 1.06982734 1.65560538 1.25453456 1.48509308]\n",
      "  [1.53098284 1.11909911 1.16830546 1.25143795 1.95983286]\n",
      "  [1.4781756  1.13507294 1.1360578  1.78506219 1.01140253]]]\n"
     ]
    }
   ],
   "source": [
    "print(d)\n"
   ]
  },
  {
   "cell_type": "code",
   "execution_count": 44,
   "metadata": {},
   "outputs": [
    {
     "name": "stdout",
     "output_type": "stream",
     "text": [
      "[[[ 75.  75. 100.  25.  75.]\n",
      "  [ 25.  75.  25.  25.  75.]\n",
      "  [ 75.  75.  25.  75.  25.]]\n",
      "\n",
      " [[ 25.  25.  75.  25.  75.]\n",
      "  [ 75.  25.  25.  25.  75.]\n",
      "  [ 75.  25.  25.  75.   0.]]]\n"
     ]
    }
   ],
   "source": [
    "print(f)"
   ]
  },
  {
   "cell_type": "markdown",
   "metadata": {},
   "source": [
    "#### 18. Bonus question: instead of using numbers (i.e. 0, 25, 50, 75, and 100), use string values  (\"A\", \"B\", \"C\", \"D\", and \"E\") to label the array elements. For the example above, the expected result is:\n",
    "\n",
    "```python\n",
    "[[[ 'D',  'D',  'D',  'B',  'D'],\n",
    "[ 'D',  'D',  'B',  'B',  'B'],\n",
    "[ 'D',  'B',  'D',  'D',  'D']],\n",
    "[[ 'B',  'B',  'B',  'B',  'E'],\n",
    "[ 'D',  'D',  'D',  'D',  'D'],\n",
    "[ 'B',  'D',   'A',  'D', 'D']]]\n",
    "```\n",
    "**Note**: you don't have to use Numpy in this question."
   ]
  },
  {
   "cell_type": "code",
   "execution_count": 46,
   "metadata": {},
   "outputs": [],
   "source": [
    "f = np.empty((2,3,5), dtype = str)"
   ]
  },
  {
   "cell_type": "code",
   "execution_count": 47,
   "metadata": {},
   "outputs": [],
   "source": [
    "f[(d_min < d) & (d < d_mean)] = \"B\"\n",
    "\n",
    "f[(d_mean < d) & (d < d_max)] = \"D\"\n",
    "\n",
    "f[d_mean == d] = \"C\"\n",
    "   \n",
    "f[d_min == d] = \"A\"\n",
    "   \n",
    "f[d_max == d] = \"E\""
   ]
  },
  {
   "cell_type": "code",
   "execution_count": 48,
   "metadata": {},
   "outputs": [
    {
     "name": "stdout",
     "output_type": "stream",
     "text": [
      "[[['D' 'D' 'E' 'B' 'D']\n",
      "  ['B' 'D' 'B' 'B' 'D']\n",
      "  ['D' 'D' 'B' 'D' 'B']]\n",
      "\n",
      " [['B' 'B' 'D' 'B' 'D']\n",
      "  ['D' 'B' 'B' 'B' 'D']\n",
      "  ['D' 'B' 'B' 'D' 'A']]]\n"
     ]
    }
   ],
   "source": [
    "print(f)"
   ]
  },
  {
   "cell_type": "code",
   "execution_count": null,
   "metadata": {},
   "outputs": [],
   "source": []
  }
 ],
 "metadata": {
  "kernelspec": {
   "display_name": "Python 3",
   "language": "python",
   "name": "python3"
  },
  "language_info": {
   "codemirror_mode": {
    "name": "ipython",
    "version": 3
   },
   "file_extension": ".py",
   "mimetype": "text/x-python",
   "name": "python",
   "nbconvert_exporter": "python",
   "pygments_lexer": "ipython3",
   "version": "3.7.4"
  }
 },
 "nbformat": 4,
 "nbformat_minor": 2
}
